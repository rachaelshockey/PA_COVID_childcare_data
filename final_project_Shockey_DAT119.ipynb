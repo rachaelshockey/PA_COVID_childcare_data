{
 "cells": [
  {
   "cell_type": "markdown",
   "metadata": {},
   "source": [
    "Rachael Shockey <br> DAT-119 Fall 2020 <br> Final Project"
   ]
  },
  {
   "cell_type": "markdown",
   "metadata": {},
   "source": [
    "Analysis of Temporary Childcare Closures in Pennsylvania during the <br>COVID-19 Pandemic\n",
    "==========================================================\n",
    "\n",
    "In June 2020, the PA Department of Human Services created the [Child Care Providers Open and Actively Providing Child Care Services](https://data.pa.gov/Human-Services/Child-Care-Providers-Open-and-Actively-Providing-C/q3yy-922h) dataset to track temporary closures of childcare centers during the COVID-19 pandemic. The dataset is hosted on data.pa.gov and is updated weekly. \n",
    "\n",
    "Using pandas, this program reads in the current dataset of operating statuses for all childcare centers in Pennsylvania reports statistics on the current closure rates for the state and certain counties. \n",
    "\n",
    "All cells in this notebook should be running already, so just scroll through to see the results of the analysis!\n",
    "\n",
    "### Sources\n",
    "\n",
    "In addition to the textbook and materials from this class, here are the sources I used for this project:\n",
    "\n",
    "* Tutorial that helped me figure out import and clean up my csv with pandas (including removing rows using str.contains argument): https://www.youtube.com/watch?v=vmEHCJofslg\n",
    "\n",
    "* Tutorial that helped me to change data by column in a pandas dataframe (specifically, I needed to convert the string data in the ‘stars’ column to integers for analysis): https://www.dataindependent.com/pandas/pandas-replace/\n",
    "\n",
    "* Tutorial that helped me figure out how to subset a dataframe based on multiple criteria at once: https://www.youtube.com/watch?v=YPItfQ87qjM \n",
    "(also referenced p. 270 of the textbook to learn the syntax for indexing a pandas dataframe)\n",
    "\n",
    "* Pandas user guide section that helped with indexing: https://pandas.pydata.org/pandas-docs/stable/user_guide/indexing.html \n",
    "\n",
    "* Pandas user guide section that helped with running descriptive stats: https://pandas.pydata.org/pandas-docs/stable/getting_started/intro_tutorials/06_calculate_statistics.html\n",
    "\n",
    "* Guide used to create basic bar plot with pandas: https://www.shanelynn.ie/bar-plots-in-python-using-pandas-dataframes/\n",
    "\n",
    "* Guide used to create an overlapping histogram with matplotlib: https://datavizpyr.com/overlapping-histograms-with-matplotlib-in-python/\n",
    "\n",
    "* Tutorial that helped me learn .groupby() to count and sort values in a pandas dataframe: https://realpython.com/pandas-groupby/ "
   ]
  },
  {
   "cell_type": "code",
   "execution_count": 58,
   "metadata": {},
   "outputs": [],
   "source": [
    "import pandas as pd\n",
    "from matplotlib import pyplot as plt"
   ]
  },
  {
   "cell_type": "markdown",
   "metadata": {},
   "source": [
    "### Importing the Current Dataset\n",
    "\n",
    "The function below imports the csv file directly from data.pa.gov, so it does not need to be downloaded by the user ahead of time and the program uses the most recently updated version (which, again, is updated weekly)."
   ]
  },
  {
   "cell_type": "code",
   "execution_count": 59,
   "metadata": {},
   "outputs": [],
   "source": [
    "def get_df():\n",
    "    \"\"\"reads in a csv file from data.pa.gov, cleans it up, and stores it to a \n",
    "    pandas dataframe\"\"\"\n",
    "    childcare_data = pd.read_csv(\n",
    "    \"https://data.pa.gov/api/views/q3yy-922h/rows.csv?accessType=DOWNLOAD\", \n",
    "    index_col = False)\n",
    "    # read in the csv via URL to get the most current version for analysis \n",
    "    # (source: p. 346 of textbook)\n",
    "    childcare_df = (childcare_data[['Current Status', 'Provider Type', 'STARS Level',\n",
    "                                    'Facility Zip Code', 'Facility County']])\n",
    "    # create dataframe with just the five columns needed for this analysis\n",
    "    childcare_df.columns = ['status', 'type', 'stars', 'zipcode', 'county']\n",
    "    # rename the columns with simpler names that can be more easily called in pandas functions\n",
    "    \n",
    "    return childcare_df\n",
    "    # return dataframe that will be called and used throughout the rest of the program"
   ]
  },
  {
   "cell_type": "markdown",
   "metadata": {},
   "source": [
    "We now have a pandas dataframe that is ready for analysis!"
   ]
  },
  {
   "cell_type": "markdown",
   "metadata": {},
   "source": [
    "### Total Closures Statewide"
   ]
  },
  {
   "cell_type": "code",
   "execution_count": 60,
   "metadata": {},
   "outputs": [],
   "source": [
    "def get_statewide_closures():\n",
    "    \"\"\"subsets childcare data based on operating status and returns the % of \n",
    "    all PA childcare centers that are currently closed\"\"\"\n",
    "    df = get_df()\n",
    "    # call first function to bring in dataframe\n",
    "    open_pa = df[(df.status == 'Open')] \n",
    "    closed_pa = df[(df.status == 'Temporarily Closed')]\n",
    "    # subset data by  operating status\n",
    "    all_pa = len(open_pa) + len(closed_pa)\n",
    "    # add the length of both subsets together to get the total number of \n",
    "    # childcare centers in PA, which will allow us to calculate the % closed below\n",
    "    \n",
    "    percent_closed_pa = len(closed_pa) / all_pa\n",
    "    percent_closed_pa = \"{:.1%}\".format(percent_closed_pa)\n",
    "    # get percent closed by using len() \n",
    "    \n",
    "    print(\"Currently, there are\", len(closed_pa), \"childcare centers that are temporarily closed throughout Pennsylvania,\" \"\\n\"\n",
    "    \"which is\", percent_closed_pa, \"of all PA childcare centers.\")"
   ]
  },
  {
   "cell_type": "code",
   "execution_count": 61,
   "metadata": {},
   "outputs": [
    {
     "name": "stdout",
     "output_type": "stream",
     "text": [
      "Currently, there are 412 childcare centers that are temporarily closed throughout Pennsylvania,\n",
      "which is 5.9% of all PA childcare centers.\n"
     ]
    }
   ],
   "source": [
    "get_statewide_closures()"
   ]
  },
  {
   "cell_type": "markdown",
   "metadata": {},
   "source": [
    "### Total Closures in Allegheny County"
   ]
  },
  {
   "cell_type": "code",
   "execution_count": 62,
   "metadata": {},
   "outputs": [],
   "source": [
    "def get_allegheny_closures():\n",
    "    \"\"\"subsets childcare data based on operating status AND county, and returns\n",
    "    the % of all Allegheny County childcare centers that are currently closed \"\"\"\n",
    "    df = get_df()\n",
    "    # call first function to bring in dataframe\n",
    "    open_ac = df[(df.status == 'Open') & (df.county == 'Allegheny')]\n",
    "    closed_ac = df[(df.status == 'Temporarily Closed') & (df.county == 'Allegheny')]\n",
    "    # subset data by  operating status\n",
    "    all_ac = len(open_ac) + len(closed_ac)\n",
    "    # add the length of both subsets together to get the total number of childcare centers \n",
    "    # in Allegheny County, which will allow us to calculate the % closed below\n",
    "    \n",
    "    percent_closed_ac = len(closed_ac) / all_ac\n",
    "    percent_closed_ac = \"{:.1%}\".format(percent_closed_ac)\n",
    "    \n",
    "    print(\"Currently, there are\", len(closed_ac), \"childcare centers that are temporarily closed in Allegheny County,\" \"\\n\"\n",
    "    \"which is\", percent_closed_ac, \"of all Allegheny County childcare centers.\")"
   ]
  },
  {
   "cell_type": "code",
   "execution_count": 63,
   "metadata": {},
   "outputs": [
    {
     "name": "stdout",
     "output_type": "stream",
     "text": [
      "Currently, there are 61 childcare centers that are temporarily closed in Allegheny County,\n",
      "which is 9.7% of all Allegheny County childcare centers.\n"
     ]
    }
   ],
   "source": [
    "get_allegheny_closures()"
   ]
  },
  {
   "cell_type": "markdown",
   "metadata": {},
   "source": [
    "### County-Level Closures throughout the State\n",
    "\n",
    "The **`.groupby()`** function in pandas can be used to pull aggregate data based on certain criteria. The function below uses \n",
    "**`.groupby()`** to sum up total temporary closures by county. "
   ]
  },
  {
   "cell_type": "code",
   "execution_count": 64,
   "metadata": {},
   "outputs": [],
   "source": [
    "def get_closures_by_county():\n",
    "    \"\"\"uses .grouby() function in pandas to create new dataframe where total\n",
    "    temporary closures are summed up by county\"\"\"\n",
    "    # source used to build this function: https://realpython.com/pandas-groupby/\n",
    "    df = get_df()\n",
    "    closures_df = (df[['status', 'type', 'county']])\n",
    "    # pull just three of the columns from the original dataframe so that this \n",
    "    # function doesn't print unecessary information. The childcare center 'type'\n",
    "    # isn't actually needed for this piece of the analysis, but the type column \n",
    "    # will serve as the column where the total count of temporarily closed centers\n",
    "    # per PA county will be printed. \n",
    "    closures_df.columns = ['status', 'closures', 'county']\n",
    "    # rename the columns for neater printing\n",
    "    closures_df = closures_df.loc[df['status'] == \"Temporarily Closed\"]\n",
    "    # subset the dataframe to filter out all childcare centers that are open\n",
    "    countywide_closures = closures_df.groupby(['status', 'county'], \n",
    "                    sort=False).count().sort_values('closures', ascending=False)\n",
    "    # Create a new object that will store and sort the dataframe by total closures\n",
    "    # per county. Here, the former 'type' column serves as the shell for sorting\n",
    "    # the new count values. 'Ascending=False' ensures that the new dataframe\n",
    "    # starts with the highest count of closures at the top\n",
    "    \n",
    "    return countywide_closures"
   ]
  },
  {
   "cell_type": "markdown",
   "metadata": {},
   "source": [
    "Now, the **`get_closures_by_county()`** function can be used to look at total closures by county."
   ]
  },
  {
   "cell_type": "code",
   "execution_count": 65,
   "metadata": {},
   "outputs": [],
   "source": [
    "def get_county_closure_stats():\n",
    "    \"\"\"calls the above function to run summary statistics on the number of \n",
    "    temporary childcare closures per county in PA\"\"\"\n",
    "    \n",
    "    print('''Below are summary statistics on the total number of temporarily closed \n",
    "childcare centers per county in PA. \n",
    "\n",
    "Note: There are 67 counties in Pennsylvania, and this analysis only includes \n",
    "counties that currently have at least one childcare center reporting a \n",
    "\"temporarily closed\" operating status (the \"count\" below indicates the number \n",
    "of PA counties that currently fit this criteria).\n",
    "\n",
    "''')\n",
    "    \n",
    "    county_df = get_closures_by_county()\n",
    "    \n",
    "    print(county_df[['closures']].describe())"
   ]
  },
  {
   "cell_type": "code",
   "execution_count": 66,
   "metadata": {},
   "outputs": [
    {
     "name": "stdout",
     "output_type": "stream",
     "text": [
      "Below are summary statistics on the total number of temporarily closed \n",
      "childcare centers per county in PA. \n",
      "\n",
      "Note: There are 67 counties in Pennsylvania, and this analysis only includes \n",
      "counties that currently have at least one childcare center reporting a \n",
      "\"temporarily closed\" operating status (the \"count\" below indicates the number \n",
      "of PA counties that currently fit this criteria).\n",
      "\n",
      "\n",
      "        closures\n",
      "count  39.000000\n",
      "mean   10.564103\n",
      "std    16.940756\n",
      "min     1.000000\n",
      "25%     1.500000\n",
      "50%     5.000000\n",
      "75%    11.000000\n",
      "max    86.000000\n"
     ]
    }
   ],
   "source": [
    "get_county_closure_stats()"
   ]
  },
  {
   "cell_type": "markdown",
   "metadata": {},
   "source": [
    "### Counties with the Highest Numbers of Temporarily Closed Centers\n",
    "\n",
    "Now that we have used the **`get_closures_by_county`** function to create a new dataframed where total temporary closures are summed up by county and sorted in descending order, we can easily print a list of the PA counties that have the highest numbers of temporarily closed childcare centers, as demonstrated in the function below..."
   ]
  },
  {
   "cell_type": "code",
   "execution_count": 67,
   "metadata": {},
   "outputs": [],
   "source": [
    "def get_top_counties():\n",
    "    \"\"\"calls the get_closures_by_county() function and uses .head() function \n",
    "    in pandas to find the ten PA counties with the highest total \n",
    "    childcare centers that are temporarily closed\"\"\"\n",
    "    \n",
    "    highest_closure_counties = get_closures_by_county()\n",
    "    # call the get_closures_by_county() function to get the dataframe that \n",
    "    # contains aggregate data on total closures by county (which has already\n",
    "    # been sorted in descending order by the previous function)\n",
    "    top_counties = highest_closure_counties.head(10)\n",
    "    # remove all dataframe rows except the top ten\n",
    "    # By changing the parameter in the .head() function, this could be easily \n",
    "    # modify to return a longer or shorter list of counties\n",
    "    \n",
    "    return top_counties\n",
    "    # return the top_counties dataframe so that it can be printed AND used again\n",
    "    # in the plotting function"
   ]
  },
  {
   "cell_type": "code",
   "execution_count": 68,
   "metadata": {},
   "outputs": [
    {
     "name": "stdout",
     "output_type": "stream",
     "text": [
      "Below are the PA counties with the highest total temporarily closed childcare centers of all counties in the state.\n"
     ]
    },
    {
     "data": {
      "text/html": [
       "<div>\n",
       "<style scoped>\n",
       "    .dataframe tbody tr th:only-of-type {\n",
       "        vertical-align: middle;\n",
       "    }\n",
       "\n",
       "    .dataframe tbody tr th {\n",
       "        vertical-align: top;\n",
       "    }\n",
       "\n",
       "    .dataframe thead th {\n",
       "        text-align: right;\n",
       "    }\n",
       "</style>\n",
       "<table border=\"1\" class=\"dataframe\">\n",
       "  <thead>\n",
       "    <tr style=\"text-align: right;\">\n",
       "      <th></th>\n",
       "      <th></th>\n",
       "      <th>closures</th>\n",
       "    </tr>\n",
       "    <tr>\n",
       "      <th>status</th>\n",
       "      <th>county</th>\n",
       "      <th></th>\n",
       "    </tr>\n",
       "  </thead>\n",
       "  <tbody>\n",
       "    <tr>\n",
       "      <th rowspan=\"10\" valign=\"top\">Temporarily Closed</th>\n",
       "      <th>Philadelphia</th>\n",
       "      <td>86</td>\n",
       "    </tr>\n",
       "    <tr>\n",
       "      <th>Allegheny</th>\n",
       "      <td>61</td>\n",
       "    </tr>\n",
       "    <tr>\n",
       "      <th>Bucks</th>\n",
       "      <td>32</td>\n",
       "    </tr>\n",
       "    <tr>\n",
       "      <th>Montgomery</th>\n",
       "      <td>28</td>\n",
       "    </tr>\n",
       "    <tr>\n",
       "      <th>Chester</th>\n",
       "      <td>24</td>\n",
       "    </tr>\n",
       "    <tr>\n",
       "      <th>Delaware</th>\n",
       "      <td>19</td>\n",
       "    </tr>\n",
       "    <tr>\n",
       "      <th>Erie</th>\n",
       "      <td>15</td>\n",
       "    </tr>\n",
       "    <tr>\n",
       "      <th>Lancaster</th>\n",
       "      <td>14</td>\n",
       "    </tr>\n",
       "    <tr>\n",
       "      <th>York</th>\n",
       "      <td>12</td>\n",
       "    </tr>\n",
       "    <tr>\n",
       "      <th>Dauphin</th>\n",
       "      <td>12</td>\n",
       "    </tr>\n",
       "  </tbody>\n",
       "</table>\n",
       "</div>"
      ],
      "text/plain": [
       "                                 closures\n",
       "status             county                \n",
       "Temporarily Closed Philadelphia        86\n",
       "                   Allegheny           61\n",
       "                   Bucks               32\n",
       "                   Montgomery          28\n",
       "                   Chester             24\n",
       "                   Delaware            19\n",
       "                   Erie                15\n",
       "                   Lancaster           14\n",
       "                   York                12\n",
       "                   Dauphin             12"
      ]
     },
     "execution_count": 68,
     "metadata": {},
     "output_type": "execute_result"
    }
   ],
   "source": [
    "print(\"Below are the PA counties with the highest total temporarily closed childcare centers of all counties in the state.\")\n",
    "get_top_counties()"
   ]
  },
  {
   "cell_type": "code",
   "execution_count": 69,
   "metadata": {},
   "outputs": [],
   "source": [
    "def plot_top_counties():\n",
    "    \"\"\"uses pandas to create a basic visualization of the total closures \n",
    "    for the top counties identified in the aggregate dataset via the \n",
    "    get_top_counties() function\"\"\"\n",
    "    \n",
    "    top_counties_df = get_top_counties()\n",
    "    # assign the data from get_top_counties() to a local variable\n",
    "    \n",
    "    top_counties_df.plot(kind=\"bar\")\n",
    "    # create a basic bar plot of the get_top_counties() data (closures by county)"
   ]
  },
  {
   "cell_type": "code",
   "execution_count": 70,
   "metadata": {},
   "outputs": [
    {
     "data": {
      "image/png": "[encoded data removed]",
      "text/plain": [
       "<Figure size 432x288 with 1 Axes>"
      ]
     },
     "metadata": {
      "needs_background": "light"
     },
     "output_type": "display_data"
    }
   ],
   "source": [
    "plot_top_counties()"
   ]
  },
  {
   "cell_type": "markdown",
   "metadata": {},
   "source": [
    "### Are childcare centers with lower Keystone STAR ratings more likely to be temporarily closed right now?\n",
    "\n",
    "According to pakeys.org:\n",
    ">Keystone STARS is Pennsylvania’s Quality Rating and Improvement System (QRIS). A QRIS is a continuous quality improvement systemic approach to assess, improve, and communicate the level of quality in early and school-age care and education programs. Keystone STARS is a program of Pennsylvania’s Office of Child Development and Early Learning (OCDEL).\n",
    "\n",
    "All childcare centers that have obtained a basic certification of compliance from the PA Department of Human Services are automatically given a STAR rating of 1, and they can then pursue a higher STAR rating through working with a quality coach on a continuous quality improvement and assessment plan. The highest possible STAR rating is 4. Most childcare centers in the dataset I analyzed for this project have at least a STAR rating of 1. \n",
    "\n",
    "While centers with no STAR rating may not be compliant with DHS standards, it would not be quite accurate to assume that they have a rating of 0 since they haven’t been assessed at all yet. \n",
    "\n",
    "Similarly, childcare centers with ratings of 1 may not necessarily be the ‘bad’ ones, but [based on the updated information available through OCDEL](https://secureservercdn.net/198.71.233.197/69d.231.myftpupload.com/wp-content/uploads/2020/07/Keystone-STARS-Program-Manual-8.1.2020-FINAL.pdf) about [how the Keystone STARS program works](https://secureservercdn.net/198.71.233.197/69d.231.myftpupload.com/wp-content/uploads/2020/07/2020-Keystone-STARS-Performance-Standards-8.1.2020.pdf), it may be the case that those with ratings of 1 are newer programs and/or have fewer resources than those with ratings of 3 or 4. \n",
    "\n",
    "To compare the Keystone STAR ratings of open versus temporarily closed childcare centers statewide, I first had to create a copy of the original dataframe, in which I removed all childcare centers with no STAR rating and converted the string data in the STAR column to intergers (e.g. I had to change entries of \"STAR 1\" to 1). "
   ]
  },
  {
   "cell_type": "code",
   "execution_count": 71,
   "metadata": {},
   "outputs": [],
   "source": [
    "def get_stars_df():\n",
    "    \"\"\"modifies the original dataframe by removing all rows for childcare centers \n",
    "    that have no STAR rating and then converting the string data in the Keystone\n",
    "    STAR rating column to integers that can be analyzed\"\"\"\n",
    "    former_df = get_df()\n",
    "    # import the full childcare dataframe\n",
    "    stars_df = former_df.loc[~former_df['stars'].str.contains(\"No\")]\n",
    "    # filter out all rows with childcare centers that have \"No STARS level\"\n",
    "    \n",
    "    # I learned through pandas tutorials that using the ~ character with the \n",
    "    # .loc function is a handy way to find and remove rows from a dataframe\n",
    "    # based on given criteria. Functions like this one take the place of \n",
    "    # loops and if/else conditional statements throughout this program. \n",
    "    \n",
    "    stars_df = stars_df.replace(to_replace={'stars': {'STAR 1': 1, 'STAR 2' : 2, \n",
    "    'STAR 3': 3, 'STAR 4': 4}}, value=None)\n",
    "    # the dictionary above replaces string data in 'stars' column with \n",
    "    # corresponding integers that can be analyzed (i.e. changes an entry of \n",
    "    # 'STAR 1' to 1)\n",
    "    return stars_df"
   ]
  },
  {
   "cell_type": "markdown",
   "metadata": {},
   "source": [
    "Now, we have a modified dataframe that can be used to compare STAR ratings of open versus temporarily closed childcare centers in Pennsylvania, including only centers that have at least a STAR rating of 1. "
   ]
  },
  {
   "cell_type": "code",
   "execution_count": 72,
   "metadata": {},
   "outputs": [],
   "source": [
    "def compare_stars():\n",
    "    df = get_stars_df()\n",
    "    # import the dataframe created above\n",
    "    \n",
    "    open_centers = df[(df.status == 'Open')]\n",
    "    closed_centers = df[(df.status == 'Temporarily Closed')]\n",
    "    # subset the dataframe created in the previous function by operating status\n",
    "    \n",
    "    open_stars_mean = open_centers[('stars')].mean()\n",
    "    open_stars_mean = \"{:.3}\".format(open_stars_mean)\n",
    "    open_stars_stdev = open_centers[('stars')].std()\n",
    "    open_stars_stdev = \"{:.3}\".format(open_stars_stdev)\n",
    "    # use pandas functions to get the mean and standard deviation of the STAR\n",
    "    # ratings of the PA childcare centers that remain open\n",
    "    \n",
    "    closed_stars_mean = closed_centers[('stars')].mean()\n",
    "    closed_stars_mean = \"{:.3}\".format(closed_stars_mean)\n",
    "    closed_stars_stdev = closed_centers[('stars')].std()\n",
    "    closed_stars_stdev = \"{:.3}\".format(closed_stars_stdev)\n",
    "    # get the mean and standard deviation of the STAR ratings of the PA \n",
    "    # childcare centers that remain open\n",
    "    \n",
    "    print(\"Among the temporarily closed childcare centers in PA, the mean Keystone STAR rating is\", ' ', closed_stars_mean, \"\\n\"\n",
    "\"with a standard deviation of\", ' ', closed_stars_stdev, \".\", sep='')\n",
    "    print(\"\")\n",
    "    print(\"Among the open childcare centers in PA, the mean Keystone STAR rating is\", ' ', open_stars_mean, ' ', \n",
    "\"with a standard deviation of\", ' ', open_stars_stdev, \".\", sep=\"\")"
   ]
  },
  {
   "cell_type": "code",
   "execution_count": 73,
   "metadata": {},
   "outputs": [
    {
     "name": "stdout",
     "output_type": "stream",
     "text": [
      "Among the temporarily closed childcare centers in PA, the mean Keystone STAR rating is 1.77\n",
      "with a standard deviation of 1.1.\n",
      "\n",
      "Among the open childcare centers in PA, the mean Keystone STAR rating is 1.9 with a standard deviation of 1.16.\n"
     ]
    }
   ],
   "source": [
    "compare_stars()"
   ]
  },
  {
   "cell_type": "markdown",
   "metadata": {},
   "source": [
    "The mean Keystone STAR rating of the childcare centers that are currently open is slightly higher than the mean rating of those that are temporarily closed. The standard deviation for open childcare centers is very slightly higher, indicating that the values are more spread out than they are among the closed childcare centers, but that is likely just because there are far more values in one group versus the other (there are 412 temporarily closed childcare centers right now versus thousands that remain open).  "
   ]
  },
  {
   "cell_type": "code",
   "execution_count": 74,
   "metadata": {},
   "outputs": [],
   "source": [
    "def compare_stars_plot():\n",
    "     \"\"\"use matplotlib to create a histogram with data from the stars_df to \n",
    "     compare childcare center closure rates by Keystone STAR rating\"\"\"\n",
    "     df = get_stars_df()\n",
    "     # bring in the modified dataframe that only contains the childcare centers\n",
    "     # with Keystone STAR ratings and assign it to a local variable\n",
    "        \n",
    "     x_closed = df.stars[(df.status == 'Temporarily Closed')]\n",
    "     x_open = df.stars[(df.status == 'Open')]\n",
    "     # since we want to plot two histograms on a single chart, two different \n",
    "     # x-axes get assigned here: one for all childcare centers in the \n",
    "     # stars_df that are temporarily closed and one for those that are open\n",
    "     \n",
    "     plt.hist(x_closed, 4, alpha=0.5, label='temporarily closed centers')\n",
    "     plt.hist(x_open, 4, alpha=0.5, label='open centers')\n",
    "     plt.xlabel('STAR Rating', size=14)\n",
    "     plt.ylabel('Count', size=14)\n",
    "     plt.title('PA Childcare Centers - Current Operating Status by STAR Rating')\n",
    "     plt.legend(loc='upper right')\n",
    "     # call matplotlib as plt to create overlapping histogram using the aplha\n",
    "     # function"
   ]
  },
  {
   "cell_type": "code",
   "execution_count": 75,
   "metadata": {},
   "outputs": [
    {
     "data": {
      "image/png": "[encoded data removed]",
      "text/plain": [
       "<Figure size 432x288 with 1 Axes>"
      ]
     },
     "metadata": {
      "needs_background": "light"
     },
     "output_type": "display_data"
    }
   ],
   "source": [
    "compare_stars_plot()"
   ]
  },
  {
   "cell_type": "markdown",
   "metadata": {},
   "source": [
    "The overlapping histogram above visualizes the number of childcare center closures by Keystone STAR rating (1-4). The darker bars represent the centers that are temporarily closed right now, and the lighter bars represent those that are open. \n",
    "\n",
    "At a glance, the number of closures by STAR rating appear to be proportionate to the overall percentage of PA childcare centers that possess each rating. \n",
    "\n",
    "Based on what this analysis has revealed, it is probably _not_ the case that childcare centers with lower Keystone STAR ratings are more likely to be temporarily closed than those with higher ratings. It appears that a majority of all childcare centers in the state, regardless of current operating status, have a Keystone STAR rating of 1. "
   ]
  }
 ],
 "metadata": {
  "kernelspec": {
   "display_name": "Python 3",
   "language": "python",
   "name": "python3"
  },
  "language_info": {
   "codemirror_mode": {
    "name": "ipython",
    "version": 3
   },
   "file_extension": ".py",
   "mimetype": "text/x-python",
   "name": "python",
   "nbconvert_exporter": "python",
   "pygments_lexer": "ipython3",
   "version": "3.8.3"
  }
 },
 "nbformat": 4,
 "nbformat_minor": 4
}
